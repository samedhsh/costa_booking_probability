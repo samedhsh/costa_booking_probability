{
 "cells": [
  {
   "cell_type": "code",
   "execution_count": 38,
   "metadata": {},
   "outputs": [],
   "source": [
    "import pandas as pd\n",
    "import numpy as np\n",
    "import matplotlib.pyplot as plt\n",
    "import seaborn as sns\n",
    "import pickle\n",
    "\n",
    "from sklearn import metrics\n",
    "from sklearn.preprocessing import OneHotEncoder, MinMaxScaler\n",
    "from sklearn.model_selection import train_test_split\n",
    "from sklearn.ensemble import RandomForestClassifier\n",
    "from sklearn.linear_model import LogisticRegression\n",
    "from sklearn.metrics import accuracy_score, confusion_matrix, f1_score, recall_score, precision_score\n",
    "\n",
    "import warnings\n",
    "warnings.simplefilter(\"ignore\")"
   ]
  },
  {
   "cell_type": "code",
   "execution_count": 39,
   "metadata": {},
   "outputs": [
    {
     "data": {
      "text/html": [
       "<div>\n",
       "<style scoped>\n",
       "    .dataframe tbody tr th:only-of-type {\n",
       "        vertical-align: middle;\n",
       "    }\n",
       "\n",
       "    .dataframe tbody tr th {\n",
       "        vertical-align: top;\n",
       "    }\n",
       "\n",
       "    .dataframe thead th {\n",
       "        text-align: right;\n",
       "    }\n",
       "</style>\n",
       "<table border=\"1\" class=\"dataframe\">\n",
       "  <thead>\n",
       "    <tr style=\"text-align: right;\">\n",
       "      <th></th>\n",
       "      <th>ID</th>\n",
       "      <th>booking</th>\n",
       "      <th>occupation_id_desc</th>\n",
       "      <th>had_a_flight_in_last_cruise</th>\n",
       "      <th>booked_country_aggregation</th>\n",
       "      <th>AGE</th>\n",
       "      <th>LOYALTY_TOTAL_SCORE</th>\n",
       "      <th>NUMBER_OF_CRUISES</th>\n",
       "      <th>rfm_segment</th>\n",
       "      <th>is_loyalty</th>\n",
       "      <th>...</th>\n",
       "      <th>flag_opt_cxl_last3y</th>\n",
       "      <th>flag_bkd_cxl_last_month</th>\n",
       "      <th>flag_opt_cxl_last_month</th>\n",
       "      <th>num_cruises_last3y</th>\n",
       "      <th>total_gross_cru_rev_eur_mean</th>\n",
       "      <th>total_gross_obr_rev_eur_mean</th>\n",
       "      <th>sent_last_month</th>\n",
       "      <th>open_last_month</th>\n",
       "      <th>click_last_month</th>\n",
       "      <th>source_desc</th>\n",
       "    </tr>\n",
       "  </thead>\n",
       "  <tbody>\n",
       "    <tr>\n",
       "      <th>0</th>\n",
       "      <td>1</td>\n",
       "      <td>NaN</td>\n",
       "      <td>NaN</td>\n",
       "      <td>NaN</td>\n",
       "      <td>FRANCE</td>\n",
       "      <td>48</td>\n",
       "      <td>0</td>\n",
       "      <td>0</td>\n",
       "      <td>PROSPECT</td>\n",
       "      <td>False</td>\n",
       "      <td>...</td>\n",
       "      <td>1.0</td>\n",
       "      <td>0.0</td>\n",
       "      <td>0.0</td>\n",
       "      <td>NaN</td>\n",
       "      <td>NaN</td>\n",
       "      <td>NaN</td>\n",
       "      <td>NaN</td>\n",
       "      <td>NaN</td>\n",
       "      <td>NaN</td>\n",
       "      <td>RESERVATION SYSTEM</td>\n",
       "    </tr>\n",
       "    <tr>\n",
       "      <th>1</th>\n",
       "      <td>2</td>\n",
       "      <td>NaN</td>\n",
       "      <td>NaN</td>\n",
       "      <td>False</td>\n",
       "      <td>ARGENTINA</td>\n",
       "      <td>76</td>\n",
       "      <td>5842</td>\n",
       "      <td>7</td>\n",
       "      <td>0 HIGH</td>\n",
       "      <td>True</td>\n",
       "      <td>...</td>\n",
       "      <td>NaN</td>\n",
       "      <td>NaN</td>\n",
       "      <td>NaN</td>\n",
       "      <td>6.0</td>\n",
       "      <td>1197.578263</td>\n",
       "      <td>108.833333</td>\n",
       "      <td>NaN</td>\n",
       "      <td>NaN</td>\n",
       "      <td>NaN</td>\n",
       "      <td>NaN</td>\n",
       "    </tr>\n",
       "    <tr>\n",
       "      <th>2</th>\n",
       "      <td>3</td>\n",
       "      <td>NaN</td>\n",
       "      <td>NaN</td>\n",
       "      <td>NaN</td>\n",
       "      <td>ITALY</td>\n",
       "      <td>42</td>\n",
       "      <td>0</td>\n",
       "      <td>0</td>\n",
       "      <td>PROSPECT</td>\n",
       "      <td>True</td>\n",
       "      <td>...</td>\n",
       "      <td>NaN</td>\n",
       "      <td>NaN</td>\n",
       "      <td>NaN</td>\n",
       "      <td>NaN</td>\n",
       "      <td>NaN</td>\n",
       "      <td>NaN</td>\n",
       "      <td>2.0</td>\n",
       "      <td>2.0</td>\n",
       "      <td>0.0</td>\n",
       "      <td>WEB</td>\n",
       "    </tr>\n",
       "    <tr>\n",
       "      <th>3</th>\n",
       "      <td>4</td>\n",
       "      <td>NaN</td>\n",
       "      <td>NaN</td>\n",
       "      <td>False</td>\n",
       "      <td>GERMANY</td>\n",
       "      <td>33</td>\n",
       "      <td>0</td>\n",
       "      <td>1</td>\n",
       "      <td>LOST</td>\n",
       "      <td>False</td>\n",
       "      <td>...</td>\n",
       "      <td>NaN</td>\n",
       "      <td>NaN</td>\n",
       "      <td>NaN</td>\n",
       "      <td>NaN</td>\n",
       "      <td>NaN</td>\n",
       "      <td>NaN</td>\n",
       "      <td>NaN</td>\n",
       "      <td>NaN</td>\n",
       "      <td>NaN</td>\n",
       "      <td>NaN</td>\n",
       "    </tr>\n",
       "    <tr>\n",
       "      <th>4</th>\n",
       "      <td>5</td>\n",
       "      <td>NaN</td>\n",
       "      <td>NaN</td>\n",
       "      <td>NaN</td>\n",
       "      <td>ITALY</td>\n",
       "      <td>44</td>\n",
       "      <td>0</td>\n",
       "      <td>0</td>\n",
       "      <td>PROSPECT</td>\n",
       "      <td>True</td>\n",
       "      <td>...</td>\n",
       "      <td>1.0</td>\n",
       "      <td>0.0</td>\n",
       "      <td>0.0</td>\n",
       "      <td>NaN</td>\n",
       "      <td>NaN</td>\n",
       "      <td>NaN</td>\n",
       "      <td>1.0</td>\n",
       "      <td>0.0</td>\n",
       "      <td>0.0</td>\n",
       "      <td>WEB</td>\n",
       "    </tr>\n",
       "  </tbody>\n",
       "</table>\n",
       "<p>5 rows × 37 columns</p>\n",
       "</div>"
      ],
      "text/plain": [
       "   ID  booking occupation_id_desc had_a_flight_in_last_cruise  \\\n",
       "0   1      NaN                NaN                         NaN   \n",
       "1   2      NaN                NaN                       False   \n",
       "2   3      NaN                NaN                         NaN   \n",
       "3   4      NaN                NaN                       False   \n",
       "4   5      NaN                NaN                         NaN   \n",
       "\n",
       "  booked_country_aggregation  AGE  LOYALTY_TOTAL_SCORE  NUMBER_OF_CRUISES  \\\n",
       "0                     FRANCE   48                    0                  0   \n",
       "1                  ARGENTINA   76                 5842                  7   \n",
       "2                      ITALY   42                    0                  0   \n",
       "3                    GERMANY   33                    0                  1   \n",
       "4                      ITALY   44                    0                  0   \n",
       "\n",
       "  rfm_segment  is_loyalty  ...  flag_opt_cxl_last3y  flag_bkd_cxl_last_month  \\\n",
       "0    PROSPECT       False  ...                  1.0                      0.0   \n",
       "1      0 HIGH        True  ...                  NaN                      NaN   \n",
       "2    PROSPECT        True  ...                  NaN                      NaN   \n",
       "3        LOST       False  ...                  NaN                      NaN   \n",
       "4    PROSPECT        True  ...                  1.0                      0.0   \n",
       "\n",
       "  flag_opt_cxl_last_month num_cruises_last3y total_gross_cru_rev_eur_mean  \\\n",
       "0                     0.0                NaN                          NaN   \n",
       "1                     NaN                6.0                  1197.578263   \n",
       "2                     NaN                NaN                          NaN   \n",
       "3                     NaN                NaN                          NaN   \n",
       "4                     0.0                NaN                          NaN   \n",
       "\n",
       "  total_gross_obr_rev_eur_mean sent_last_month open_last_month  \\\n",
       "0                          NaN             NaN             NaN   \n",
       "1                   108.833333             NaN             NaN   \n",
       "2                          NaN             2.0             2.0   \n",
       "3                          NaN             NaN             NaN   \n",
       "4                          NaN             1.0             0.0   \n",
       "\n",
       "   click_last_month         source_desc  \n",
       "0               NaN  RESERVATION SYSTEM  \n",
       "1               NaN                 NaN  \n",
       "2               0.0                 WEB  \n",
       "3               NaN                 NaN  \n",
       "4               0.0                 WEB  \n",
       "\n",
       "[5 rows x 37 columns]"
      ]
     },
     "execution_count": 39,
     "metadata": {},
     "output_type": "execute_result"
    }
   ],
   "source": [
    "df = pd.read_csv('dataset.csv', sep=\";\")\n",
    "df.head()"
   ]
  },
  {
   "cell_type": "code",
   "execution_count": 40,
   "metadata": {},
   "outputs": [
    {
     "data": {
      "text/plain": [
       "ID                                   0\n",
       "booking                          10000\n",
       "occupation_id_desc               97272\n",
       "had_a_flight_in_last_cruise      31934\n",
       "booked_country_aggregation           0\n",
       "AGE                                  0\n",
       "LOYALTY_TOTAL_SCORE                  0\n",
       "NUMBER_OF_CRUISES                    0\n",
       "rfm_segment                          0\n",
       "is_loyalty                           0\n",
       "pcc_flag                             0\n",
       "flag_app                           101\n",
       "opener_segment                   63964\n",
       "privacy_channel_email_date       46151\n",
       "privacy_channel_phone_date       46311\n",
       "privacy_channel_post_date        46840\n",
       "privacy_send_material_date       35622\n",
       "loyalty_subscribe_date           65402\n",
       "days_after_cruise_end            40165\n",
       "BKG_Channel                      33578\n",
       "last_cruise_program_desc         32217\n",
       "last_cruise_duration             32116\n",
       "last_cruise_bkg_anticipation       100\n",
       "last_paid_cabin_meta_cat_code    32233\n",
       "last_nps_segment                 92871\n",
       "last_pax_type                    32174\n",
       "flag_bkd_cxl_last3y              75324\n",
       "flag_opt_cxl_last3y              75324\n",
       "flag_bkd_cxl_last_month          75324\n",
       "flag_opt_cxl_last_month          75324\n",
       "num_cruises_last3y               87272\n",
       "total_gross_cru_rev_eur_mean     87272\n",
       "total_gross_obr_rev_eur_mean     87341\n",
       "sent_last_month                  70526\n",
       "open_last_month                  70526\n",
       "click_last_month                 70526\n",
       "source_desc                      63585\n",
       "dtype: int64"
      ]
     },
     "execution_count": 40,
     "metadata": {},
     "output_type": "execute_result"
    }
   ],
   "source": [
    "df.isnull().sum()"
   ]
  },
  {
   "cell_type": "code",
   "execution_count": 41,
   "metadata": {},
   "outputs": [],
   "source": [
    "df.drop(columns=[\n",
    "                  \"occupation_id_desc\", \"privacy_channel_email_date\", \"privacy_channel_phone_date\", \"privacy_channel_post_date\",\n",
    "                  \"privacy_send_material_date\", \"loyalty_subscribe_date\", \"last_nps_segment\", \"flag_bkd_cxl_last3y\",\n",
    "                  \"flag_bkd_cxl_last_month\", \"flag_opt_cxl_last3y\", \"flag_opt_cxl_last_month\", \"num_cruises_last3y\",\n",
    "                  \"total_gross_cru_rev_eur_mean\", \"total_gross_obr_rev_eur_mean\", \"source_desc\", \"last_pax_type\"], \n",
    "                   axis=1, inplace=True) \n",
    "                     # opener_segment, "
   ]
  },
  {
   "cell_type": "code",
   "execution_count": 42,
   "metadata": {},
   "outputs": [],
   "source": [
    "df_test = df[df[\"booking\"].isnull()].reset_index(drop=True)\n",
    "df_model = df[df[\"booking\"].notnull()].reset_index(drop=True)"
   ]
  },
  {
   "cell_type": "code",
   "execution_count": 43,
   "metadata": {},
   "outputs": [],
   "source": [
    "mode_pcc_flag = df_model[\"flag_app\"].mode().values[0]\n",
    "df_model[\"flag_app\"].fillna(mode_pcc_flag, inplace=True)\n",
    "\n",
    "mode_last_cruise_duration = df_model[\"last_cruise_duration\"].mode().values[0]\n",
    "df_model[\"last_cruise_duration\"].fillna(mode_last_cruise_duration, inplace=True)\n",
    "\n",
    "median_last_anticipation = df_model[\"last_cruise_bkg_anticipation\"].median()\n",
    "df_model[\"last_cruise_bkg_anticipation\"].fillna(median_last_anticipation, inplace=True)"
   ]
  },
  {
   "cell_type": "code",
   "execution_count": 44,
   "metadata": {},
   "outputs": [
    {
     "data": {
      "image/png": "[encoded data removed]",
      "text/plain": [
       "<Figure size 432x288 with 2 Axes>"
      ]
     },
     "metadata": {
      "needs_background": "light"
     },
     "output_type": "display_data"
    }
   ],
   "source": [
    "### the correlation between numerical features\n",
    "\n",
    "df_corr = df_model.drop(columns=[\"ID\"]).corr()  ## TODO: heatmap plotly\n",
    "\n",
    "sns.heatmap(df_corr, cmap='YlGnBu')  # annot=True displays the data values on the heatmap\n",
    "plt.title('Correlations Heatmap')\n",
    "plt.xlabel('X-axis')\n",
    "plt.ylabel('Y-axis')\n",
    "plt.show()"
   ]
  },
  {
   "cell_type": "code",
   "execution_count": 45,
   "metadata": {},
   "outputs": [],
   "source": [
    "# BKG_Channel ==> already categorical\n",
    "# last_cruise_program_desc ==> 35 categorie, we can make it 3categories or drop it \n",
    "# last_cruise_bkg_anticipation ==> fill 100 null with median : because of distribution\n",
    "# last_paid_cabin_meta_cat_code ==> 6 categoryc\n",
    "# last_pax_type ==> 165 category ==> droppiamo la colonna\n",
    "# sent_last_month  ==> 0, 1-4, 4-\n",
    "# open_last_month  ==> 0, 1-4, 4-\n",
    "# click_last_month ==> 0, 1-4, 4-\n",
    "# last_cruise_duration ==> per adesso fillna con la moda(7giorni)\n",
    "\n",
    "## TODO: subplot the distribution with plotly\n",
    "## TODO: logging instead of print"
   ]
  },
  {
   "cell_type": "code",
   "execution_count": 46,
   "metadata": {},
   "outputs": [],
   "source": [
    "### segmenting the 'days_after_cruise_end' to a categorical column.\n",
    "\n",
    "bins = [-np.inf, 90, 730, 1460, np.inf] ## based on their distribution\n",
    "names = ['less_than_3month', 'between_3month_and_2year','between_2year_and_4year', 'more_than_4year']\n",
    "\n",
    "df_model['period_after_cruise_end'] = pd.cut(df_model['days_after_cruise_end'], bins, labels=names)\n",
    "\n",
    "df_model.drop(columns=[\"days_after_cruise_end\"], axis=1, inplace=True)"
   ]
  },
  {
   "cell_type": "code",
   "execution_count": 47,
   "metadata": {},
   "outputs": [],
   "source": [
    "### segmenting the 'click_last_month', 'open_last_month', 'sent_last_month' to categorical columns.\n",
    "\n",
    "bins2 = [-np.inf, 0, 4, np.inf] ## based on their distribution\n",
    "names2 = ['0', 'between_0_and_4','more_than_4']\n",
    "\n",
    "df_model['category_click_last_month'] = pd.cut(df_model['click_last_month'], bins2, labels=names2)\n",
    "df_model['category_open_last_month'] = pd.cut(df_model['open_last_month'], bins2, labels=names2)\n",
    "df_model['category_sent_last_month'] = pd.cut(df_model['sent_last_month'], bins2, labels=names2)\n",
    "\n",
    "df_model.drop(columns=[\"click_last_month\", \"open_last_month\", \"sent_last_month\"], axis=1, inplace=True)"
   ]
  },
  {
   "cell_type": "code",
   "execution_count": 48,
   "metadata": {},
   "outputs": [],
   "source": [
    "### encoding and scaling of categorical and numerical features\n",
    "\n",
    "categorical_columns = [\"had_a_flight_in_last_cruise\", \"BKG_Channel\", \"rfm_segment\",  \"period_after_cruise_end\",\n",
    "                        \"last_paid_cabin_meta_cat_code\", \"category_open_last_month\", \n",
    "                        \"category_sent_last_month\"\n",
    "                        ] #,\"last_cruise_program_desc\", ,\"category_click_last_month\", \"opener_segment\"\n",
    "\n",
    "numerical_columns = [\"AGE\", \"LOYALTY_TOTAL_SCORE\", \"is_loyalty\", \"NUMBER_OF_CRUISES\", \"pcc_flag\", \"flag_app\", \n",
    "                     \"last_cruise_duration\", \"last_cruise_bkg_anticipation\"\n",
    "                      ] #\n",
    "\n",
    "encoder = OneHotEncoder(handle_unknown='ignore')\n",
    "encoder.fit(df_model[categorical_columns])\n",
    "encoded_df = encoder.transform(df_model[categorical_columns]).toarray()\n",
    "encoded_df = pd.DataFrame(encoded_df, columns=encoder.get_feature_names(categorical_columns))\n",
    "\n",
    "\n",
    "\n",
    "scaler = MinMaxScaler(feature_range=(0,1))\n",
    "\n",
    "        # fit and transform the numerical columns of the dataframe\n",
    "scaled_df = scaler.fit_transform(df_model[numerical_columns])\n",
    "\n",
    "        # create a new dataframe with the scaled values\n",
    "scaled_df = pd.DataFrame(scaled_df, columns=numerical_columns)"
   ]
  },
  {
   "cell_type": "code",
   "execution_count": 49,
   "metadata": {},
   "outputs": [],
   "source": [
    "X = pd.concat([encoded_df, scaled_df], axis=1) ## merging the encoded categorical and numerical features\n",
    "\n",
    "target_column = \"booking\"\n",
    "y = df_model[target_column]"
   ]
  },
  {
   "cell_type": "code",
   "execution_count": 50,
   "metadata": {},
   "outputs": [],
   "source": [
    "# split data into train and test sets\n",
    "seed = 42\n",
    "test_size = 0.15\n",
    "X_train, X_test, y_train, y_test = train_test_split(X, y, test_size=test_size, random_state=seed)"
   ]
  },
  {
   "cell_type": "code",
   "execution_count": 51,
   "metadata": {},
   "outputs": [
    {
     "name": "stdout",
     "output_type": "stream",
     "text": [
      "Resampled dataset shape 151244\n"
     ]
    }
   ],
   "source": [
    "from imblearn.over_sampling import SMOTE\n",
    "\n",
    "sm = SMOTE(random_state=seed)\n",
    "X_res, y_res = sm.fit_resample(X_train, y_train)\n",
    "print('Resampled dataset shape %s' % len(y_res))"
   ]
  },
  {
   "cell_type": "code",
   "execution_count": 52,
   "metadata": {},
   "outputs": [
    {
     "name": "stdout",
     "output_type": "stream",
     "text": [
      "Class weights: {0.0: 0.5058851965104776, 1.0: 42.97946513849092}\n"
     ]
    }
   ],
   "source": [
    "def calculate_class_weights(y):\n",
    "    unique_classes, class_counts = np.unique(y, return_counts=True)\n",
    "    total_samples = len(y)\n",
    "    class_weights = {}\n",
    "\n",
    "    for class_label, class_count in zip(unique_classes, class_counts):\n",
    "        class_weight = total_samples / (2.0 * class_count)\n",
    "        class_weights[class_label] = class_weight\n",
    "\n",
    "    return class_weights\n",
    "\n",
    "# Assuming 'y' contains the class labels (0s and 1s) for the binary classification problem\n",
    "class_weights = calculate_class_weights(y)\n",
    "print(\"Class weights:\", class_weights)"
   ]
  },
  {
   "cell_type": "code",
   "execution_count": 53,
   "metadata": {},
   "outputs": [],
   "source": [
    "clf = RandomForestClassifier(max_depth=3, random_state=seed, class_weight=class_weights) # ,  \n",
    "\n",
    "clf.fit(X_train, y_train)\n",
    "y_pred = clf.predict(X_test)\n"
   ]
  },
  {
   "cell_type": "code",
   "execution_count": 54,
   "metadata": {},
   "outputs": [
    {
     "data": {
      "image/png": "[encoded data removed]",
      "text/plain": [
       "<Figure size 432x288 with 2 Axes>"
      ]
     },
     "metadata": {
      "needs_background": "light"
     },
     "output_type": "display_data"
    }
   ],
   "source": [
    "cm = confusion_matrix(y_test, y_pred)\n",
    "\n",
    "cm_display = metrics.ConfusionMatrixDisplay(confusion_matrix = cm, display_labels = [0, 1])\n",
    "cm_display.plot()\n",
    "plt.show()"
   ]
  },
  {
   "cell_type": "code",
   "execution_count": 121,
   "metadata": {},
   "outputs": [
    {
     "name": "stdout",
     "output_type": "stream",
     "text": [
      "0.7648888888888888\n",
      "0.9807925875175901\n",
      "0.8555146454306939\n"
     ]
    }
   ],
   "source": [
    "print(recall_score(y_test, y_pred, average='weighted'))\n",
    "print(precision_score(y_test, y_pred, average='weighted'))\n",
    "print(f1_score(y_test, y_pred, average='weighted'))"
   ]
  },
  {
   "cell_type": "code",
   "execution_count": null,
   "metadata": {},
   "outputs": [],
   "source": [
    "# filename = 'model_rfc.pkl'\n",
    "# pickle.dump(clf, open(filename, 'wb'))"
   ]
  },
  {
   "cell_type": "code",
   "execution_count": null,
   "metadata": {},
   "outputs": [],
   "source": [
    "### booking ==> imbalanced target column , i null saranno da prevedere\n",
    "###*** occupation_id ==> 97k null (da togliere)\n",
    "###* had_a_flight_in_last_cruise ==> 30k null che possiamo riempire con 0\n",
    "### booked_country_aggregation ==> dopo la feature importance possiamo toglierla\n",
    "### Age ==> 0 null e 18-123\n",
    "### LOYALTY_TOTAL_SCORE ==> 0 null e bissogna fare scalling con 5 categorie\n",
    "### number_of_cruise ==> 0 null\n",
    "### rfm_segment ==> 0 null. one hot encoding to numerical\n",
    "### is_loyalty ==> 0 null. TRUE e FALSE\n",
    "### pcc_flag ==> 0 null. 0 e 1\n",
    "### flag_app ==> 100 null. 0 e 1. fillna con 0 oppure dropna\n",
    "###?? opener_segment ==> 64k null. bhoo per adesso?\n",
    "###*** privacy_channel_email_date ==> 46k|\n",
    "###*** privacy_channel_phone_date ==> 46k|\n",
    "###*** privacy_channel_post_date  ==> 46k| colonne da togliere oppure creare quanti giorni da quella data è passato\n",
    "###*** privacy_send_material_date ==> 35k| ma da capire che sono importanti o no.\n",
    "###*** loyalty_subscribe_date ==> piu importante delle altre però 65k null.\n",
    "\n",
    "###?? days_after_cruise_end ==> 40k null. da capire come gestirle??\n",
    "###* BKG_Channel ==> 33k null. 6 distinct e mode frequency=42k\n",
    "###* last_cruise_program_desc ==> 32k null. 35 categories e mode freq=40k\n",
    "###* last_cruise_duration ==> 32k null. da 0 a 130gg. mode=7days e freq=44k\n",
    "### last_cruise_bkg_anticipation ==> 100 null. da -11 a 1745. mode=0 e freq=33k\n",
    "###* last_paid_cabin_meta_cat_code ==> 32k null. 6 category con quasi due mode: I e V\n",
    "###*** last_nps_segment ==> 92k null. 3 category. probabimente da eliminare\n",
    "###* last_pax_type    ==> 32k null.\n",
    "\n",
    "###*** flag_bkd_cxl_last3y ==>     |75k null. mode=0, freq=16k\n",
    "###*** flag_opt_cxl_last3y ==>     |75k null. mode=1, freq=13k\n",
    "###*** flag_bkd_cxl_last_month ==> |75k null. there are 60 rows with 1 and 2. they are so meaningfull but we not enough data.\n",
    "###*** flag_opt_cxl_last_month ==> |75k null. there are 700 rows not ZERO and NULL. they are so meaningfull but we not enough data.\n",
    "###                                | eliminiamo le colonne ********\n",
    "\n",
    "###*** num_cruises_last3y ==> 87k null. da eliminare \n",
    "###*** total_gross_cru_rev_eur_mean ==> 87k null. da eliminare \n",
    "###*** total_gross_obr_rev_eur_mean ==> 87k null. da eliminare \n",
    "\n",
    "### sent_last_month ==> | 70k null. \n",
    "### open_last_month ==> | 70k null. \n",
    "### click_last_month==> | 70k null. \n",
    "\n",
    "###*** source_desc ==> 63k null"
   ]
  },
  {
   "cell_type": "code",
   "execution_count": null,
   "metadata": {},
   "outputs": [],
   "source": [
    "# TODO: plottare le distribuzioni\n",
    "# from plotly.subplots import make_subplots\n",
    "# import plotly.graph_objects as go\n",
    "\n",
    "# features_to_plot_dist = [ \"AGE\", \"LOYALTY_TOTAL_SCORE\", \"NUMBER_OF_CRUISES\",\n",
    "#                          \"rfm_segment\", \"flag_app\", \"days_after_cruise_end\", \"flag_app\", \"sent_last_month\", \n",
    "#                          \"last_cruise_duration\"]\n",
    "\n",
    "# fig = make_subplots(rows=1, cols=1)\n",
    "\n",
    "# fig.add_trace(\n",
    "#     go.Histogram(x1=df_model[\"AGE\"], xaxis=[0, 150],\n",
    "#     row=1, col=1)\n",
    "# )\n",
    "# # layout = dict(xaxis=dict(range=[-3, 3]))\n",
    "\n",
    "# # fig.add_trace(\n",
    "# #     go.Histogram(x=df_model[\"LOYALTY_TOTAL_SCORE\"], xaxis=dict(range=[0, 10000]),\n",
    "# #     row=1, col=2)\n",
    "# # )\n",
    "\n",
    "\n",
    "\n",
    "# fig.update_layout(height=600, width=800, title_text=\"Side By Side Subplots\")\n",
    "# fig.show()"
   ]
  }
 ],
 "metadata": {
  "kernelspec": {
   "display_name": "base",
   "language": "python",
   "name": "python3"
  },
  "language_info": {
   "codemirror_mode": {
    "name": "ipython",
    "version": 3
   },
   "file_extension": ".py",
   "mimetype": "text/x-python",
   "name": "python",
   "nbconvert_exporter": "python",
   "pygments_lexer": "ipython3",
   "version": "3.9.12"
  }
 },
 "nbformat": 4,
 "nbformat_minor": 2
}
